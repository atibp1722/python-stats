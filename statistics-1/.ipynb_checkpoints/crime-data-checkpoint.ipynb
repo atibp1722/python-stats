{
 "cells": [
  {
   "cell_type": "code",
   "execution_count": 1,
   "metadata": {},
   "outputs": [],
   "source": [
    "import numpy as np\n",
    "import pandas as pd\n",
    "import seaborn as sns\n",
    "import matplotlib.pyplot as plt\n",
    "%matplotlib inline"
   ]
  },
  {
   "cell_type": "code",
   "execution_count": 2,
   "metadata": {},
   "outputs": [
    {
     "data": {
      "text/html": [
       "<div>\n",
       "<style scoped>\n",
       "    .dataframe tbody tr th:only-of-type {\n",
       "        vertical-align: middle;\n",
       "    }\n",
       "\n",
       "    .dataframe tbody tr th {\n",
       "        vertical-align: top;\n",
       "    }\n",
       "\n",
       "    .dataframe thead th {\n",
       "        text-align: right;\n",
       "    }\n",
       "</style>\n",
       "<table border=\"1\" class=\"dataframe\">\n",
       "  <thead>\n",
       "    <tr style=\"text-align: right;\">\n",
       "      <th></th>\n",
       "      <th>Unnamed: 0</th>\n",
       "      <th>Murder</th>\n",
       "      <th>Assault</th>\n",
       "      <th>UrbanPop</th>\n",
       "      <th>Rape</th>\n",
       "    </tr>\n",
       "  </thead>\n",
       "  <tbody>\n",
       "    <tr>\n",
       "      <th>0</th>\n",
       "      <td>Alabama</td>\n",
       "      <td>13.2</td>\n",
       "      <td>236</td>\n",
       "      <td>58</td>\n",
       "      <td>21.2</td>\n",
       "    </tr>\n",
       "    <tr>\n",
       "      <th>1</th>\n",
       "      <td>Alaska</td>\n",
       "      <td>10.0</td>\n",
       "      <td>263</td>\n",
       "      <td>48</td>\n",
       "      <td>44.5</td>\n",
       "    </tr>\n",
       "    <tr>\n",
       "      <th>2</th>\n",
       "      <td>Arizona</td>\n",
       "      <td>8.1</td>\n",
       "      <td>294</td>\n",
       "      <td>80</td>\n",
       "      <td>31.0</td>\n",
       "    </tr>\n",
       "    <tr>\n",
       "      <th>3</th>\n",
       "      <td>Arkansas</td>\n",
       "      <td>8.8</td>\n",
       "      <td>190</td>\n",
       "      <td>50</td>\n",
       "      <td>19.5</td>\n",
       "    </tr>\n",
       "    <tr>\n",
       "      <th>4</th>\n",
       "      <td>California</td>\n",
       "      <td>9.0</td>\n",
       "      <td>276</td>\n",
       "      <td>91</td>\n",
       "      <td>40.6</td>\n",
       "    </tr>\n",
       "  </tbody>\n",
       "</table>\n",
       "</div>"
      ],
      "text/plain": [
       "   Unnamed: 0  Murder  Assault  UrbanPop  Rape\n",
       "0     Alabama    13.2      236        58  21.2\n",
       "1      Alaska    10.0      263        48  44.5\n",
       "2     Arizona     8.1      294        80  31.0\n",
       "3    Arkansas     8.8      190        50  19.5\n",
       "4  California     9.0      276        91  40.6"
      ]
     },
     "execution_count": 2,
     "metadata": {},
     "output_type": "execute_result"
    }
   ],
   "source": [
    "data=pd.read_csv('US_violent_crime.csv')\n",
    "data.head()"
   ]
  },
  {
   "cell_type": "code",
   "execution_count": 3,
   "metadata": {},
   "outputs": [
    {
     "name": "stdout",
     "output_type": "stream",
     "text": [
      "('Urban pop mean', 65.54)\n",
      "('Urban pop variance', 209.51877551020405)\n",
      "('Urban pop stdev', 14.474763400836784)\n",
      "\n",
      "('Assault mean', 170.76)\n",
      "('Assault variance', 6945.165714285717)\n",
      "('Assault stdev', 83.33766084001708)\n"
     ]
    }
   ],
   "source": [
    "print('Urban pop mean',data['UrbanPop'].mean())\n",
    "print('Urban pop variance',data['UrbanPop'].var())\n",
    "print('Urban pop stdev',data['UrbanPop'].std())\n",
    "print(\"\")\n",
    "print('Assault mean',data['Assault'].mean())\n",
    "print('Assault variance',data['Assault'].var())\n",
    "print('Assault stdev',data['Assault'].std())"
   ]
  },
  {
   "cell_type": "code",
   "execution_count": 4,
   "metadata": {},
   "outputs": [
    {
     "name": "stdout",
     "output_type": "stream",
     "text": [
      "0.227317866591\n",
      "0.382037848972\n",
      "('Karl-Pearson', 1.930979948426923)\n",
      "('Fisher', -1.069020051573077)\n",
      "140.0\n",
      "7.175000000000002\n",
      "('Iqr', array([140.   ,   7.175]))\n",
      "[ 0.79078716  1.11805959  1.49381682  0.23321191  1.2756352   0.40290872\n",
      " -0.73648418  0.81502956  1.99078607  0.48775713 -1.51224105 -0.61527217\n",
      "  0.94836277 -0.70012057 -1.39102904 -0.67587817 -0.74860538  0.94836277\n",
      " -1.06375661  1.56654403 -0.26375734  1.02108998 -1.19708982  1.06957478\n",
      "  0.0877575  -0.74860538 -0.83345379  0.98472638 -1.37890783 -0.14254532\n",
      "  1.38472601  1.00896878  2.01502847 -1.52436225 -0.61527217 -0.23951493\n",
      " -0.14254532 -0.78496898  0.03927269  1.3119988  -1.027393    0.20896951\n",
      "  0.36654512 -0.61527217 -1.48799864 -0.17890893 -0.31224214 -1.08799901\n",
      " -1.42739264 -0.11830292]\n"
     ]
    }
   ],
   "source": [
    "from scipy.stats import kurtosis\n",
    "from scipy.stats import skew\n",
    "from scipy.stats import zscore\n",
    "from scipy.stats import iqr\n",
    "\n",
    "print(skew(data['Assault']))\n",
    "print(skew(data['Murder']))\n",
    "\n",
    "print('Karl-Pearson',kurtosis(data['Assault'],fisher=False))\n",
    "print('Fisher',kurtosis(data['Assault'],fisher=True))\n",
    "\n",
    "print(iqr(data['Assault']))\n",
    "print(iqr(data['Murder']))\n",
    "print('Iqr',iqr(data[['Assault','Murder']],axis=0))\n",
    "\n",
    "print(zscore(data['Assault']))"
   ]
  },
  {
   "cell_type": "code",
   "execution_count": 5,
   "metadata": {},
   "outputs": [],
   "source": [
    "def outlier(col):\n",
    "    q3=np.quantile(data[col],0.75)\n",
    "    q1=np.quantile(data[col],0.25)\n",
    "    iqr=q3-q1\n",
    "    \n",
    "    lower=q1-(1.5*iqr)\n",
    "    upper=q3+(1.5*iqr)\n",
    "    return data[(data[col]<lower) | (data[col]>upper)]"
   ]
  },
  {
   "cell_type": "code",
   "execution_count": 6,
   "metadata": {},
   "outputs": [
    {
     "data": {
      "text/html": [
       "<div>\n",
       "<style scoped>\n",
       "    .dataframe tbody tr th:only-of-type {\n",
       "        vertical-align: middle;\n",
       "    }\n",
       "\n",
       "    .dataframe tbody tr th {\n",
       "        vertical-align: top;\n",
       "    }\n",
       "\n",
       "    .dataframe thead th {\n",
       "        text-align: right;\n",
       "    }\n",
       "</style>\n",
       "<table border=\"1\" class=\"dataframe\">\n",
       "  <thead>\n",
       "    <tr style=\"text-align: right;\">\n",
       "      <th></th>\n",
       "      <th>Unnamed: 0</th>\n",
       "      <th>Murder</th>\n",
       "      <th>Assault</th>\n",
       "      <th>UrbanPop</th>\n",
       "      <th>Rape</th>\n",
       "    </tr>\n",
       "  </thead>\n",
       "  <tbody>\n",
       "    <tr>\n",
       "      <th>1</th>\n",
       "      <td>Alaska</td>\n",
       "      <td>10.0</td>\n",
       "      <td>263</td>\n",
       "      <td>48</td>\n",
       "      <td>44.5</td>\n",
       "    </tr>\n",
       "    <tr>\n",
       "      <th>27</th>\n",
       "      <td>Nevada</td>\n",
       "      <td>12.2</td>\n",
       "      <td>252</td>\n",
       "      <td>81</td>\n",
       "      <td>46.0</td>\n",
       "    </tr>\n",
       "  </tbody>\n",
       "</table>\n",
       "</div>"
      ],
      "text/plain": [
       "   Unnamed: 0  Murder  Assault  UrbanPop  Rape\n",
       "1      Alaska    10.0      263        48  44.5\n",
       "27     Nevada    12.2      252        81  46.0"
      ]
     },
     "execution_count": 6,
     "metadata": {},
     "output_type": "execute_result"
    }
   ],
   "source": [
    "outlier('Rape')"
   ]
  },
  {
   "cell_type": "code",
   "execution_count": 7,
   "metadata": {},
   "outputs": [
    {
     "data": {
      "text/plain": [
       "(array([44]),)"
      ]
     },
     "execution_count": 7,
     "metadata": {},
     "output_type": "execute_result"
    }
   ],
   "source": [
    "score=np.abs(zscore(data['UrbanPop']))\n",
    "np.where(score>2)"
   ]
  },
  {
   "cell_type": "code",
   "execution_count": 8,
   "metadata": {},
   "outputs": [
    {
     "data": {
      "text/plain": [
       "Unnamed: 0    Vermont\n",
       "Murder            2.2\n",
       "Assault            48\n",
       "UrbanPop           32\n",
       "Rape             11.2\n",
       "Name: 44, dtype: object"
      ]
     },
     "execution_count": 8,
     "metadata": {},
     "output_type": "execute_result"
    }
   ],
   "source": [
    "data.iloc[44]"
   ]
  },
  {
   "cell_type": "code",
   "execution_count": 35,
   "metadata": {},
   "outputs": [
    {
     "data": {
      "image/png": "[encoded data removed]",
      "text/plain": [
       "<Figure size 432x288 with 1 Axes>"
      ]
     },
     "metadata": {
      "needs_background": "light"
     },
     "output_type": "display_data"
    }
   ],
   "source": [
    "xaxis=data['Unnamed: 0']\n",
    "yaxis=data['Murder']\n",
    "\n",
    "plt.bar(xaxis,yaxis)\n",
    "plt.show()"
   ]
  },
  {
   "cell_type": "code",
   "execution_count": 33,
   "metadata": {},
   "outputs": [
    {
     "data": {
      "image/png": "[encoded data removed]",
      "text/plain": [
       "<Figure size 432x288 with 1 Axes>"
      ]
     },
     "metadata": {},
     "output_type": "display_data"
    }
   ],
   "source": [
    "x=data['Assault'].sum(),data['Murder'].sum(),data['Rape'].sum()\n",
    "label=['Assault','Murder','Rape']\n",
    "\n",
    "plt.pie(x,labels=label,autopct='%1.2f%%',radius=0.9)\n",
    "plt.legend()\n",
    "plt.show()"
   ]
  },
  {
   "cell_type": "code",
   "execution_count": null,
   "metadata": {},
   "outputs": [],
   "source": []
  }
 ],
 "metadata": {
  "kernelspec": {
   "display_name": "Python 2",
   "language": "python",
   "name": "python2"
  },
  "language_info": {
   "codemirror_mode": {
    "name": "ipython",
    "version": 2
   },
   "file_extension": ".py",
   "mimetype": "text/x-python",
   "name": "python",
   "nbconvert_exporter": "python",
   "pygments_lexer": "ipython2",
   "version": "2.7.16"
  }
 },
 "nbformat": 4,
 "nbformat_minor": 2
}
