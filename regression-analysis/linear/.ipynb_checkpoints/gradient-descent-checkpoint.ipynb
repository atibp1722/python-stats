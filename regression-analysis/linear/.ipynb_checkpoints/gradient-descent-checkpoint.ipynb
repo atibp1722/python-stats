{
 "cells": [
  {
   "cell_type": "code",
   "execution_count": null,
   "metadata": {},
   "outputs": [],
   "source": [
    "import pandas as pd\n",
    "import numpy as np\n",
    "import seaborn as sns\n",
    "import matplotlib.pyplot as plt\n",
    "%matplotlib inline"
   ]
  },
  {
   "cell_type": "code",
   "execution_count": null,
   "metadata": {},
   "outputs": [],
   "source": [
    "data=pd.read_csv('advertising.csv')\n",
    "data.head()"
   ]
  },
  {
   "cell_type": "code",
   "execution_count": null,
   "metadata": {},
   "outputs": [],
   "source": [
    "x=data[['wechat','weibo','others']]\n",
    "y=data['sales']\n",
    "\n",
    "y=np.array((y-y.mean())/y.std())\n",
    "x=x.apply(lambda row:(row-row.mean())/row.std(),axis=0)"
   ]
  },
  {
   "cell_type": "code",
   "execution_count": null,
   "metadata": {},
   "outputs": [],
   "source": [
    "import random\n",
    "\n",
    "def initialize(dim):\n",
    "    np.random.seed(50)\n",
    "    random.seed(50)\n",
    "    bias=random.random()\n",
    "    weight=np.random.rand(dim)\n",
    "    return bias,weight\n",
    "\n",
    "bias,weight=initialize(3)\n",
    "print('Bias',bias,'Weights',weight)"
   ]
  },
  {
   "cell_type": "code",
   "execution_count": null,
   "metadata": {},
   "outputs": [],
   "source": [
    "def predict(bias,weight,x):\n",
    "    return bias+np.matmul(x,weight)\n",
    "\n",
    "bias,weight=initialize(3)\n",
    "y_mean=predict(bias,weight,x)"
   ]
  },
  {
   "cell_type": "code",
   "execution_count": null,
   "metadata": {},
   "outputs": [],
   "source": [
    "import math\n",
    "\n",
    "def cost(y,y_mean):\n",
    "    residual=y-y_mean\n",
    "    return np.sum(np.matmul(residual,residual.T))/len(residual)\n",
    "\n",
    "bias,weight=initialize(3)\n",
    "y_mean=predict(bias,weight,x)\n",
    "cost(y,y_mean)"
   ]
  },
  {
   "cell_type": "code",
   "execution_count": null,
   "metadata": {},
   "outputs": [],
   "source": [
    "def update_params(X,y,y_mean,b,w,lr):\n",
    "    db=(np.sum(y_mean-y)*2)/len(y)\n",
    "    dw=(np.dot((y_mean-y),X)*2)/len(y)\n",
    "    \n",
    "    b1=b-lr*db\n",
    "    w1=w-lr*dw\n",
    "    return b1,w1\n",
    "\n",
    "bias,weight=initialize(3)\n",
    "print('Initial bias',bias,'initial weights',weight)\n",
    "y_mean=predict(bias,weight,x)\n",
    "bias,weight=update_params(x,y,y_mean,bias,weight,0.01)\n",
    "print('After update bias is',bias,'weights are',weight)"
   ]
  },
  {
   "cell_type": "code",
   "execution_count": null,
   "metadata": {},
   "outputs": [],
   "source": [
    "def gradient_descent(x,y,alpha=0.01,iters=100):\n",
    "    bias,weight=initialize(x.shape[1])\n",
    "    n_iters=0\n",
    "    iterations=pd.DataFrame(columns=['Iteration','Loss'])\n",
    "    result=0\n",
    "    \n",
    "    for i in range(n_iters):\n",
    "        y_mean=predict(bias,weight,x)\n",
    "        iter_cost=cost(y,y_mean)\n",
    "        prev_bias=b\n",
    "        prev_weight=w\n",
    "        bias,weight=update_params(x,y,y_mean,prev_bias,prev_weight,alpha)\n",
    "        if n_iters%10==0:\n",
    "            iterations.loc[result]=[n_iters,iter_cost]\n",
    "            result=result+1\n",
    "        n_iters=n_iters+1\n",
    "        \n",
    "    print('Final bias',bias,'weights',weight)\n",
    "    return iterations,bias,weight\n",
    "\n",
    "iterations,bias,weight=gradient_descent(x,y,alpha=0.01,iters=100)"
   ]
  },
  {
   "cell_type": "code",
   "execution_count": null,
   "metadata": {},
   "outputs": [],
   "source": []
  }
 ],
 "metadata": {
  "kernelspec": {
   "display_name": "Python 2",
   "language": "python",
   "name": "python2"
  },
  "language_info": {
   "codemirror_mode": {
    "name": "ipython",
    "version": 2
   },
   "file_extension": ".py",
   "mimetype": "text/x-python",
   "name": "python",
   "nbconvert_exporter": "python",
   "pygments_lexer": "ipython2",
   "version": "2.7.16"
  }
 },
 "nbformat": 4,
 "nbformat_minor": 2
}
