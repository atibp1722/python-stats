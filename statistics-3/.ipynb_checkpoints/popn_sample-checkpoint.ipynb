{
 "cells": [
  {
   "cell_type": "code",
   "execution_count": 1,
   "metadata": {},
   "outputs": [],
   "source": [
    "import numpy as np\n",
    "import pandas as pd\n",
    "from sklearn.datasets import make_regression"
   ]
  },
  {
   "cell_type": "code",
   "execution_count": 5,
   "metadata": {},
   "outputs": [
    {
     "name": "stdout",
     "output_type": "stream",
     "text": [
      "((1000, 10), (1000,))\n"
     ]
    }
   ],
   "source": [
    "X,y=make_regression(n_samples=1000,n_features=10,random_state=0)\n",
    "print(X.shape, y.shape)"
   ]
  },
  {
   "cell_type": "code",
   "execution_count": 6,
   "metadata": {},
   "outputs": [
    {
     "data": {
      "text/html": [
       "<div>\n",
       "<style scoped>\n",
       "    .dataframe tbody tr th:only-of-type {\n",
       "        vertical-align: middle;\n",
       "    }\n",
       "\n",
       "    .dataframe tbody tr th {\n",
       "        vertical-align: top;\n",
       "    }\n",
       "\n",
       "    .dataframe thead th {\n",
       "        text-align: right;\n",
       "    }\n",
       "</style>\n",
       "<table border=\"1\" class=\"dataframe\">\n",
       "  <thead>\n",
       "    <tr style=\"text-align: right;\">\n",
       "      <th></th>\n",
       "      <th>x1</th>\n",
       "      <th>x2</th>\n",
       "      <th>x3</th>\n",
       "      <th>x4</th>\n",
       "      <th>x5</th>\n",
       "      <th>x6</th>\n",
       "      <th>x7</th>\n",
       "      <th>x8</th>\n",
       "      <th>x9</th>\n",
       "      <th>x10</th>\n",
       "      <th>y</th>\n",
       "    </tr>\n",
       "  </thead>\n",
       "  <tbody>\n",
       "    <tr>\n",
       "      <th>0</th>\n",
       "      <td>1.609045</td>\n",
       "      <td>0.527680</td>\n",
       "      <td>1.649248</td>\n",
       "      <td>-0.491485</td>\n",
       "      <td>-1.098417</td>\n",
       "      <td>1.065133</td>\n",
       "      <td>0.689721</td>\n",
       "      <td>-0.222621</td>\n",
       "      <td>-0.002557</td>\n",
       "      <td>0.143017</td>\n",
       "      <td>224.767643</td>\n",
       "    </tr>\n",
       "    <tr>\n",
       "      <th>1</th>\n",
       "      <td>0.018815</td>\n",
       "      <td>-0.996044</td>\n",
       "      <td>1.703775</td>\n",
       "      <td>-1.258197</td>\n",
       "      <td>1.181981</td>\n",
       "      <td>1.510628</td>\n",
       "      <td>0.458706</td>\n",
       "      <td>0.182014</td>\n",
       "      <td>-1.159540</td>\n",
       "      <td>-1.213214</td>\n",
       "      <td>-7.743626</td>\n",
       "    </tr>\n",
       "    <tr>\n",
       "      <th>2</th>\n",
       "      <td>1.335316</td>\n",
       "      <td>-1.881484</td>\n",
       "      <td>-0.680807</td>\n",
       "      <td>1.189978</td>\n",
       "      <td>0.388992</td>\n",
       "      <td>1.084748</td>\n",
       "      <td>-0.762039</td>\n",
       "      <td>0.198327</td>\n",
       "      <td>0.424903</td>\n",
       "      <td>-0.413275</td>\n",
       "      <td>-31.192920</td>\n",
       "    </tr>\n",
       "    <tr>\n",
       "      <th>3</th>\n",
       "      <td>-0.384880</td>\n",
       "      <td>-0.286887</td>\n",
       "      <td>-1.126826</td>\n",
       "      <td>-0.107305</td>\n",
       "      <td>-0.133702</td>\n",
       "      <td>-0.730678</td>\n",
       "      <td>1.077744</td>\n",
       "      <td>-0.061626</td>\n",
       "      <td>-0.042171</td>\n",
       "      <td>0.094352</td>\n",
       "      <td>-96.963951</td>\n",
       "    </tr>\n",
       "    <tr>\n",
       "      <th>4</th>\n",
       "      <td>-0.098453</td>\n",
       "      <td>-1.079932</td>\n",
       "      <td>-0.744755</td>\n",
       "      <td>-0.437820</td>\n",
       "      <td>-0.068242</td>\n",
       "      <td>-0.826439</td>\n",
       "      <td>1.713343</td>\n",
       "      <td>-1.147469</td>\n",
       "      <td>1.126636</td>\n",
       "      <td>-0.663478</td>\n",
       "      <td>-76.339347</td>\n",
       "    </tr>\n",
       "  </tbody>\n",
       "</table>\n",
       "</div>"
      ],
      "text/plain": [
       "         x1        x2        x3        x4        x5        x6        x7  \\\n",
       "0  1.609045  0.527680  1.649248 -0.491485 -1.098417  1.065133  0.689721   \n",
       "1  0.018815 -0.996044  1.703775 -1.258197  1.181981  1.510628  0.458706   \n",
       "2  1.335316 -1.881484 -0.680807  1.189978  0.388992  1.084748 -0.762039   \n",
       "3 -0.384880 -0.286887 -1.126826 -0.107305 -0.133702 -0.730678  1.077744   \n",
       "4 -0.098453 -1.079932 -0.744755 -0.437820 -0.068242 -0.826439  1.713343   \n",
       "\n",
       "         x8        x9       x10           y  \n",
       "0 -0.222621 -0.002557  0.143017  224.767643  \n",
       "1  0.182014 -1.159540 -1.213214   -7.743626  \n",
       "2  0.198327  0.424903 -0.413275  -31.192920  \n",
       "3 -0.061626 -0.042171  0.094352  -96.963951  \n",
       "4 -1.147469  1.126636 -0.663478  -76.339347  "
      ]
     },
     "execution_count": 6,
     "metadata": {},
     "output_type": "execute_result"
    }
   ],
   "source": [
    "data=pd.DataFrame(X,columns=['x1','x2','x3','x4','x5','x6','x7','x8','x9','x10'])\n",
    "data['y']=y\n",
    "\n",
    "data.head()"
   ]
  },
  {
   "cell_type": "code",
   "execution_count": 8,
   "metadata": {},
   "outputs": [
    {
     "name": "stdout",
     "output_type": "stream",
     "text": [
      "('Popn mean', -9.558793874466565)\n",
      "('Popn variance', 19112.552887236314)\n"
     ]
    }
   ],
   "source": [
    "print(\"Popn mean\",y.mean())\n",
    "print(\"Popn variance\",y.var())"
   ]
  },
  {
   "cell_type": "code",
   "execution_count": 10,
   "metadata": {},
   "outputs": [
    {
     "name": "stdout",
     "output_type": "stream",
     "text": [
      "('Sample mean', -11.063578241952525)\n",
      "('Sample variance', 19031.31592000269)\n"
     ]
    }
   ],
   "source": [
    "sample_size=500\n",
    "sample=data.sample(n=sample_size,random_state=1)\n",
    "\n",
    "print(\"Sample mean\",sample['y'].mean())\n",
    "print(\"Sample variance\",sample['y'].var())"
   ]
  },
  {
   "cell_type": "markdown",
   "metadata": {},
   "source": [
    "# Margin of Error"
   ]
  },
  {
   "cell_type": "code",
   "execution_count": 11,
   "metadata": {},
   "outputs": [],
   "source": [
    "from sklearn.utils import shuffle\n",
    "\n",
    "data_url='http://lib.stat.cmu.edu/datasets/boston'\n",
    "raw=pd.read_csv(data_url,sep='\\s+',skiprows=22,header=None)\n",
    "data=np.hstack([raw.values[::2,:],raw.values[1::2,:2]])\n",
    "target=raw.values[1::2,2]\n",
    "features=['CRIM','ZN','INDUS','CHAS','NOX','RM','AGE','DIS','RAD','TAX','PTRATIO','B','LSTAT']"
   ]
  },
  {
   "cell_type": "code",
   "execution_count": 12,
   "metadata": {},
   "outputs": [
    {
     "data": {
      "text/html": [
       "<div>\n",
       "<style scoped>\n",
       "    .dataframe tbody tr th:only-of-type {\n",
       "        vertical-align: middle;\n",
       "    }\n",
       "\n",
       "    .dataframe tbody tr th {\n",
       "        vertical-align: top;\n",
       "    }\n",
       "\n",
       "    .dataframe thead th {\n",
       "        text-align: right;\n",
       "    }\n",
       "</style>\n",
       "<table border=\"1\" class=\"dataframe\">\n",
       "  <thead>\n",
       "    <tr style=\"text-align: right;\">\n",
       "      <th></th>\n",
       "      <th>CRIM</th>\n",
       "      <th>ZN</th>\n",
       "      <th>INDUS</th>\n",
       "      <th>CHAS</th>\n",
       "      <th>NOX</th>\n",
       "      <th>RM</th>\n",
       "      <th>AGE</th>\n",
       "      <th>DIS</th>\n",
       "      <th>RAD</th>\n",
       "      <th>TAX</th>\n",
       "      <th>PTRATIO</th>\n",
       "      <th>B</th>\n",
       "      <th>LSTAT</th>\n",
       "      <th>target</th>\n",
       "    </tr>\n",
       "  </thead>\n",
       "  <tbody>\n",
       "    <tr>\n",
       "      <th>373</th>\n",
       "      <td>11.10810</td>\n",
       "      <td>0.0</td>\n",
       "      <td>18.10</td>\n",
       "      <td>0.0</td>\n",
       "      <td>0.668</td>\n",
       "      <td>4.906</td>\n",
       "      <td>100.0</td>\n",
       "      <td>1.1742</td>\n",
       "      <td>24.0</td>\n",
       "      <td>666.0</td>\n",
       "      <td>20.2</td>\n",
       "      <td>396.90</td>\n",
       "      <td>34.77</td>\n",
       "      <td>13.8</td>\n",
       "    </tr>\n",
       "    <tr>\n",
       "      <th>261</th>\n",
       "      <td>0.53412</td>\n",
       "      <td>20.0</td>\n",
       "      <td>3.97</td>\n",
       "      <td>0.0</td>\n",
       "      <td>0.647</td>\n",
       "      <td>7.520</td>\n",
       "      <td>89.4</td>\n",
       "      <td>2.1398</td>\n",
       "      <td>5.0</td>\n",
       "      <td>264.0</td>\n",
       "      <td>13.0</td>\n",
       "      <td>388.37</td>\n",
       "      <td>7.26</td>\n",
       "      <td>43.1</td>\n",
       "    </tr>\n",
       "    <tr>\n",
       "      <th>53</th>\n",
       "      <td>0.04981</td>\n",
       "      <td>21.0</td>\n",
       "      <td>5.64</td>\n",
       "      <td>0.0</td>\n",
       "      <td>0.439</td>\n",
       "      <td>5.998</td>\n",
       "      <td>21.4</td>\n",
       "      <td>6.8147</td>\n",
       "      <td>4.0</td>\n",
       "      <td>243.0</td>\n",
       "      <td>16.8</td>\n",
       "      <td>396.90</td>\n",
       "      <td>8.43</td>\n",
       "      <td>23.4</td>\n",
       "    </tr>\n",
       "    <tr>\n",
       "      <th>28</th>\n",
       "      <td>0.77299</td>\n",
       "      <td>0.0</td>\n",
       "      <td>8.14</td>\n",
       "      <td>0.0</td>\n",
       "      <td>0.538</td>\n",
       "      <td>6.495</td>\n",
       "      <td>94.4</td>\n",
       "      <td>4.4547</td>\n",
       "      <td>4.0</td>\n",
       "      <td>307.0</td>\n",
       "      <td>21.0</td>\n",
       "      <td>387.94</td>\n",
       "      <td>12.80</td>\n",
       "      <td>18.4</td>\n",
       "    </tr>\n",
       "    <tr>\n",
       "      <th>183</th>\n",
       "      <td>0.10008</td>\n",
       "      <td>0.0</td>\n",
       "      <td>2.46</td>\n",
       "      <td>0.0</td>\n",
       "      <td>0.488</td>\n",
       "      <td>6.563</td>\n",
       "      <td>95.6</td>\n",
       "      <td>2.8470</td>\n",
       "      <td>3.0</td>\n",
       "      <td>193.0</td>\n",
       "      <td>17.8</td>\n",
       "      <td>396.90</td>\n",
       "      <td>5.68</td>\n",
       "      <td>32.5</td>\n",
       "    </tr>\n",
       "  </tbody>\n",
       "</table>\n",
       "</div>"
      ],
      "text/plain": [
       "         CRIM    ZN  INDUS  CHAS    NOX     RM    AGE     DIS   RAD    TAX  \\\n",
       "373  11.10810   0.0  18.10   0.0  0.668  4.906  100.0  1.1742  24.0  666.0   \n",
       "261   0.53412  20.0   3.97   0.0  0.647  7.520   89.4  2.1398   5.0  264.0   \n",
       "53    0.04981  21.0   5.64   0.0  0.439  5.998   21.4  6.8147   4.0  243.0   \n",
       "28    0.77299   0.0   8.14   0.0  0.538  6.495   94.4  4.4547   4.0  307.0   \n",
       "183   0.10008   0.0   2.46   0.0  0.488  6.563   95.6  2.8470   3.0  193.0   \n",
       "\n",
       "     PTRATIO       B  LSTAT  target  \n",
       "373     20.2  396.90  34.77    13.8  \n",
       "261     13.0  388.37   7.26    43.1  \n",
       "53      16.8  396.90   8.43    23.4  \n",
       "28      21.0  387.94  12.80    18.4  \n",
       "183     17.8  396.90   5.68    32.5  "
      ]
     },
     "execution_count": 12,
     "metadata": {},
     "output_type": "execute_result"
    }
   ],
   "source": [
    "datas=pd.DataFrame(data,columns=features)\n",
    "datas['target']=target\n",
    "datas=shuffle(datas)\n",
    "datas.head()"
   ]
  },
  {
   "cell_type": "code",
   "execution_count": 14,
   "metadata": {},
   "outputs": [],
   "source": [
    "sample_size=100\n",
    "sample=datas.sample(n=sample_size,random_state=1)\n",
    "\n",
    "sample_mean=sample['target'].mean()"
   ]
  },
  {
   "cell_type": "code",
   "execution_count": 16,
   "metadata": {},
   "outputs": [
    {
     "name": "stdout",
     "output_type": "stream",
     "text": [
      "('Z-crtitcal value', 1.959963984540054)\n",
      "('Margin of error', 1.8239465299042659)\n",
      "('Confidence interval', (21.236053470095733, 24.883946529904264))\n"
     ]
    }
   ],
   "source": [
    "from scipy import stats\n",
    "from math import sqrt\n",
    "\n",
    "z_critical=stats.norm.ppf(q=0.975)\n",
    "sample_std=sample['target'].std()\n",
    "margin_of_error=z_critical*(sample_std/sqrt(sample_size))\n",
    "confidence_interval=(sample_mean-margin_of_error,sample_mean+margin_of_error)\n",
    "\n",
    "print('Z-crtitcal value',z_critical)\n",
    "print('Margin of error',margin_of_error)\n",
    "print('Confidence interval',confidence_interval)"
   ]
  },
  {
   "cell_type": "code",
   "execution_count": null,
   "metadata": {},
   "outputs": [],
   "source": []
  }
 ],
 "metadata": {
  "kernelspec": {
   "display_name": "Python 2",
   "language": "python",
   "name": "python2"
  },
  "language_info": {
   "codemirror_mode": {
    "name": "ipython",
    "version": 2
   },
   "file_extension": ".py",
   "mimetype": "text/x-python",
   "name": "python",
   "nbconvert_exporter": "python",
   "pygments_lexer": "ipython2",
   "version": "2.7.16"
  }
 },
 "nbformat": 4,
 "nbformat_minor": 2
}
