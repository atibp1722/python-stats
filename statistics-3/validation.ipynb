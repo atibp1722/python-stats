{
 "cells": [
  {
   "cell_type": "code",
   "execution_count": null,
   "metadata": {},
   "outputs": [],
   "source": [
    "from sklearn.model_selection import train_test_split\n",
    "from sklearn.datasets import load_iris\n",
    "from sklearn.linear_model import LogisticRegression\n",
    "from sklearn.metrics import accuracy_score\n",
    "\n",
    "ir=load_iris()\n",
    "X=ir.data\n",
    "y=ir.target\n",
    "\n",
    "lr=LogisticRegression()\n",
    "x_train,x_test,y_train,y_test=train_test_split(X,y,random_state=42,test_size=0.3)\n",
    "\n",
    "lr.fit(x_train,y_train)\n",
    "\n",
    "y_predict=lr.predict(x_test)\n",
    "\n",
    "print(accuracy_score(y_train,lr.predict(x_train)))\n",
    "print(accuracy_score(y_test,lr.predict(x_test)))"
   ]
  },
  {
   "cell_type": "code",
   "execution_count": null,
   "metadata": {},
   "outputs": [],
   "source": [
    "from sklearn.model_selection import cross_val_score,KFold\n",
    "\n",
    "kf=KFold(n_splits=5)\n",
    "score=cross_val_score(lr,X,y,cv=kf)\n",
    "\n",
    "print(score)\n",
    "print(score.mean())"
   ]
  },
  {
   "cell_type": "code",
   "execution_count": null,
   "metadata": {},
   "outputs": [],
   "source": [
    "import numpy as np\n",
    "from sklearn.model_selection import LeavePOut\n",
    "\n",
    "X=np.array([[0,1],[2,3],[4,5],[6,7],[8,9]])\n",
    "y=np.array([1,2,3,4,5])\n",
    "\n",
    "lp=LeavePOut(2)\n",
    "lp.get_n_splits(X)\n",
    "print(lp)\n",
    "\n",
    "for i,j in lp.split(X):\n",
    "    print('Train',i,'Test',j)\n",
    "    X_train,y_train=X[i],X[j]\n",
    "    y_train,y_test=y[i],y[j]"
   ]
  },
  {
   "cell_type": "code",
   "execution_count": null,
   "metadata": {},
   "outputs": [],
   "source": [
    "import pandas as pd\n",
    "import matplotlib.pyplot as plt\n",
    "import seaborn as sns\n",
    "\n",
    "data=pd.read_excel('Data_Train.xlsx')\n",
    "pd.set_option('display.max_columns',None)\n",
    "data.head()"
   ]
  },
  {
   "cell_type": "code",
   "execution_count": null,
   "metadata": {},
   "outputs": [],
   "source": [
    "data['Duration'].value_counts()"
   ]
  },
  {
   "cell_type": "code",
   "execution_count": null,
   "metadata": {
    "scrolled": true
   },
   "outputs": [],
   "source": [
    "data.dropna(inplace=True)\n",
    "data.isnull().sum()"
   ]
  },
  {
   "cell_type": "code",
   "execution_count": null,
   "metadata": {},
   "outputs": [],
   "source": [
    "data['Journey_Day']=pd.to_datetime(data.Date_of_Journey,format=\"%d/%m/%Y\").dt.day\n",
    "data['Journey_Month']=pd.to_datetime(data['Date_of_Journey'],format=\"%d/%m/%Y\").dt.month\n",
    "\n",
    "data.head()"
   ]
  },
  {
   "cell_type": "code",
   "execution_count": null,
   "metadata": {},
   "outputs": [],
   "source": [
    "data.drop(['Date_of_Journey'],axis=1,inplace=True)"
   ]
  },
  {
   "cell_type": "code",
   "execution_count": null,
   "metadata": {},
   "outputs": [],
   "source": [
    "data['Dep_Hour']=pd.to_datetime(data['Dep_Time']).dt.hour\n",
    "data['Dep_Min']=pd.to_datetime(data['Dep_Time']).dt.minute\n",
    "data.drop(['Dep_Time'],axis=1,inplace=True)\n",
    "\n",
    "data.head()"
   ]
  },
  {
   "cell_type": "code",
   "execution_count": null,
   "metadata": {},
   "outputs": [],
   "source": [
    "data['Arrival_Hour']=pd.to_datetime(data.Arrival_Time).dt.hour\n",
    "data['Arrival_Min']=pd.to_datetime(data.Arrival_Time).dt.minute\n",
    "data.drop(['Arrival_Time'],axis=1,inplace=True)\n",
    "\n",
    "data.head()"
   ]
  },
  {
   "cell_type": "code",
   "execution_count": null,
   "metadata": {},
   "outputs": [],
   "source": [
    "duration=list(data['Duration'])\n",
    "\n",
    "for i in range(len(duration)):\n",
    "    if len(duration[i].split())!=2:\n",
    "        if 'h' in duration[i]:\n",
    "            duration[i]=duration[i].strip()+'0m'\n",
    "        else:\n",
    "            duration[i]='0h'+duration[i]\n",
    "            \n",
    "duration_hour=[]\n",
    "duration_min=[]\n",
    "\n",
    "for i in range(len(duration)):\n",
    "    duration_hour.append(int(duration[i].split(sep='h')[0]))\n",
    "    duration_min.append(int(duration[i].split(sep='m')[0].split()[-1]))\n",
    "    \n",
    "data['Duration_Hours']=duration_hour\n",
    "data['Duration_Mins']=duration_min\n",
    "\n",
    "data.drop({'Duration'},axis=1,inplace=True)\n",
    "data.head()"
   ]
  },
  {
   "cell_type": "code",
   "execution_count": null,
   "metadata": {},
   "outputs": [],
   "source": [
    "data['Airline'].value_counts()"
   ]
  },
  {
   "cell_type": "code",
   "execution_count": null,
   "metadata": {},
   "outputs": [],
   "source": [
    "sns.catplot(y='Price',x='Airline',data=data.sort_values('Price',ascending=False),kind='boxen',height=9,aspect=3)\n",
    "plt.show()"
   ]
  },
  {
   "cell_type": "code",
   "execution_count": null,
   "metadata": {},
   "outputs": [],
   "source": [
    "Flight=data[['Airline']]\n",
    "Flight=pd.get_dummies(Flight,drop_first=True)\n",
    "Flight.head()"
   ]
  },
  {
   "cell_type": "code",
   "execution_count": null,
   "metadata": {},
   "outputs": [],
   "source": [
    "sns.catplot(y='Price',x='Source',data=data.sort_values('Price',ascending=False),kind='boxen',height=4,aspect=4)\n",
    "plt.show()"
   ]
  },
  {
   "cell_type": "code",
   "execution_count": null,
   "metadata": {},
   "outputs": [],
   "source": [
    "Start=data[['Source']]\n",
    "Start=pd.get_dummies(Start,drop_first=True)\n",
    "Start.head()"
   ]
  },
  {
   "cell_type": "code",
   "execution_count": null,
   "metadata": {},
   "outputs": [],
   "source": [
    "End=data[['Destination']]\n",
    "End=pd.get_dummies(End,drop_first=True)\n",
    "End.head()"
   ]
  },
  {
   "cell_type": "code",
   "execution_count": null,
   "metadata": {},
   "outputs": [],
   "source": [
    "data.drop(['Route','Additional_Info'],axis=1,inplace=True)"
   ]
  },
  {
   "cell_type": "code",
   "execution_count": null,
   "metadata": {},
   "outputs": [],
   "source": [
    "data.replace({'non-stop':0,'1 stop':1,'2 stops':2,'3 stops':3,'4 stops':4},inplace=True)\n",
    "data.head()"
   ]
  },
  {
   "cell_type": "code",
   "execution_count": null,
   "metadata": {},
   "outputs": [],
   "source": [
    "new_data=pd.concat([data,Flight,Start,End],axis=1)\n",
    "new_data.head()"
   ]
  },
  {
   "cell_type": "code",
   "execution_count": null,
   "metadata": {},
   "outputs": [],
   "source": [
    "new_data.drop(['Airline','Source','Destination'],axis=1,inplace=True)\n",
    "new_data.head()"
   ]
  },
  {
   "cell_type": "code",
   "execution_count": null,
   "metadata": {},
   "outputs": [],
   "source": [
    "test_data=pd.read_excel('Test_set.xlsx')\n",
    "test_data.head()"
   ]
  },
  {
   "cell_type": "code",
   "execution_count": null,
   "metadata": {},
   "outputs": [],
   "source": [
    "test_data.dropna(inplace=True)\n",
    "test_data.isnull().sum()\n",
    "\n",
    "test_data['Journey_Day']=pd.to_datetime(test_data.Date_of_Journey,format=\"%d/%m/%Y\").dt.day\n",
    "test_data['Journey_Month']=pd.to_datetime(test_data['Date_of_Journey'],format=\"%d/%m/%Y\").dt.month\n",
    "\n",
    "test_data.drop(['Date_of_Journey'],axis=1,inplace=True)\n",
    "\n",
    "test_data['Dep_Hour']=pd.to_datetime(test_data['Dep_Time']).dt.hour\n",
    "test_data['Dep_Min']=pd.to_datetime(test_data['Dep_Time']).dt.minute\n",
    "test_data.drop(['Dep_Time'],axis=1,inplace=True)\n",
    "\n",
    "test_data['Arrival_Hour']=pd.to_datetime(test_data.Arrival_Time).dt.hour\n",
    "test_data['Arrival_Min']=pd.to_datetime(test_data.Arrival_Time).dt.minute\n",
    "test_data.drop(['Arrival_Time'],axis=1,inplace=True)\n",
    "\n",
    "duration=list(test_data['Duration'])\n",
    "\n",
    "for i in range(len(duration)):\n",
    "    if len(duration[i].split())!=2:\n",
    "        if 'h' in duration[i]:\n",
    "            duration[i]=duration[i].strip()+'0m'\n",
    "        else:\n",
    "            duration[i]='0h'+duration[i]\n",
    "            \n",
    "duration_hour=[]\n",
    "duration_min=[]\n",
    "\n",
    "for i in range(len(duration)):\n",
    "    duration_hour.append(int(duration[i].split(sep='h')[0]))\n",
    "    duration_min.append(int(duration[i].split(sep='m')[0].split()[-1]))\n",
    "    \n",
    "test_data['Duration_Hours']=duration_hour\n",
    "test_data['Duration_Mins']=duration_min\n",
    "\n",
    "test_data.drop({'Duration'},axis=1,inplace=True)\n",
    "\n",
    "Flight=test_data[['Airline']]\n",
    "Flight=pd.get_dummies(Flight,drop_first=True)\n",
    "Flight.head()\n",
    "\n",
    "Start=test_data[['Source']]\n",
    "Start=pd.get_dummies(Start,drop_first=True)\n",
    "Start.head()\n",
    "\n",
    "End=test_data[['Destination']]\n",
    "End=pd.get_dummies(End,drop_first=True)\n",
    "End.head()\n",
    "\n",
    "test_data.drop(['Route','Additional_Info'],axis=1,inplace=True)\n",
    "\n",
    "test_data.replace({'non-stop':0,'1 stop':1,'2 stops':2,'3 stops':3,'4 stops':4},inplace=True)\n",
    "test_data.head()\n",
    "\n",
    "new_test=pd.concat([test_data,Flight,Start,End],axis=1)\n",
    "new_test.head()\n",
    "\n",
    "new_test.drop(['Airline','Source','Destination'],axis=1,inplace=True)\n",
    "new_test.head()"
   ]
  },
  {
   "cell_type": "code",
   "execution_count": null,
   "metadata": {},
   "outputs": [],
   "source": [
    "X=new_data.loc[:,['Total_Stops','Journey_Day','Journey_Month','Dep_Hour','Dep_Min',\n",
    "                'Arrival_Hour','Arrival_Min','Duration_Hours','Duration_Mins','Airline_Air India','Airline_GoAir',\n",
    "                'Airline_IndiGo','Airline_Jet Airways','Airline_Jet Airways Business','Airline_Multiple carriers',\n",
    "                'Airline_Multiple carriers Premium economy','Airline_SpiceJet','Airline_Trujet','Airline_Vistara',\n",
    "                'Airline_Vistara Premium economy','Source_Chennai','Source_Delhi','Source_Kolkata','Source_Mumbai',\n",
    "                'Destination_Cochin','Destination_Delhi','Destination_Hyderabad','Destination_Kolkata','Destination_New Delhi']]\n",
    "\n",
    "X.head()"
   ]
  },
  {
   "cell_type": "code",
   "execution_count": null,
   "metadata": {},
   "outputs": [],
   "source": [
    "y=new_data.iloc[:,1]\n",
    "y.head()"
   ]
  },
  {
   "cell_type": "code",
   "execution_count": null,
   "metadata": {},
   "outputs": [],
   "source": [
    "plt.figure(figsize=(20,20))\n",
    "sns.heatmap(new_data.corr(),annot=True)\n",
    "plt.show()"
   ]
  },
  {
   "cell_type": "code",
   "execution_count": null,
   "metadata": {},
   "outputs": [],
   "source": [
    "from sklearn.ensemble import ExtraTreesRegressor\n",
    "\n",
    "ext=ExtraTreesRegressor()\n",
    "ext.fit(X,y)\n",
    "\n",
    "print(ext.feature_importances_)"
   ]
  },
  {
   "cell_type": "code",
   "execution_count": null,
   "metadata": {},
   "outputs": [],
   "source": [
    "plt.figure(figsize=(15,15))\n",
    "imp_features=pd.Series(ext.feature_importances_,index=X.columns)\n",
    "imp_features.nlargest(10).plot(kind='barh')\n",
    "plt.show()"
   ]
  },
  {
   "cell_type": "code",
   "execution_count": null,
   "metadata": {},
   "outputs": [],
   "source": [
    "X_train,X_test,y_train,y_test=train_test_split(X,y,random_state=42,test_size=0.3)\n",
    "\n",
    "lg=LogisticRegression()\n",
    "lg.fit(X_train,y_train)\n",
    "\n",
    "y_predict=lg.predict(X_test)\n",
    "lg.score(X_train,y_train)\n",
    "\n",
    "sns.distplot(y_test,Y-predict)\n",
    "plt.show()"
   ]
  },
  {
   "cell_type": "code",
   "execution_count": null,
   "metadata": {},
   "outputs": [],
   "source": []
  }
 ],
 "metadata": {
  "kernelspec": {
   "display_name": "Python 2",
   "language": "python",
   "name": "python2"
  },
  "language_info": {
   "codemirror_mode": {
    "name": "ipython",
    "version": 2
   },
   "file_extension": ".py",
   "mimetype": "text/x-python",
   "name": "python",
   "nbconvert_exporter": "python",
   "pygments_lexer": "ipython2",
   "version": "2.7.16"
  }
 },
 "nbformat": 4,
 "nbformat_minor": 2
}
